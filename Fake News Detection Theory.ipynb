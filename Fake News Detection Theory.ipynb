{
 "cells": [
  {
   "cell_type": "markdown",
   "id": "bc37ac3f",
   "metadata": {},
   "source": [
    "Do you trust all the news you hear from social media? All news are not real, right? So how will you detect the fake news? The answer is Python. By practicing this advanced python project of detecting fake news, you will easily make a difference between real and fake news. Before moving ahead in this advanced Python project, get aware of the terms related to it like fake news, tfidfvectorizer, PassiveAggressive Classifier."
   ]
  },
  {
   "cell_type": "markdown",
   "id": "58da1afb",
   "metadata": {},
   "source": [
    "# TfidfVectorizer "
   ]
  },
  {
   "cell_type": "markdown",
   "id": "5413d30c",
   "metadata": {},
   "source": [
    "# TF:"
   ]
  },
  {
   "cell_type": "markdown",
   "id": "429ca6bc",
   "metadata": {},
   "source": [
    "(Term Frequency): The number of times a word appears in a document is its Term Frequency. A higher value means a term appears more often than others, and so, the document is a good match when the term is part of the search terms."
   ]
  },
  {
   "cell_type": "markdown",
   "id": "7f41aee5",
   "metadata": {},
   "source": [
    "# IDF:"
   ]
  },
  {
   "cell_type": "markdown",
   "id": "9d37e7ae",
   "metadata": {},
   "source": [
    "(Inverse Document Frequency): Words that occur many times a document, but also occur many times in many others, may be irrelevant. IDF is a measure of how significant a term is in the entire corpus."
   ]
  },
  {
   "cell_type": "markdown",
   "id": "100906cb",
   "metadata": {},
   "source": [
    "The TfidfVectorizer converts a collection of raw documents into a matrix of TF-IDF features."
   ]
  },
  {
   "cell_type": "markdown",
   "id": "8275f916",
   "metadata": {},
   "source": [
    "# PassiveAggressiveClassifier"
   ]
  },
  {
   "cell_type": "markdown",
   "id": "953ac70b",
   "metadata": {},
   "source": [
    "Passive Aggressive algorithms are online learning algorithms. Such an algorithm remains passive for a correct classification outcome, and turns aggressive in the event of a miscalculation, updating and adjusting. Unlike most other algorithms, it does not converge. Its purpose is to make updates that correct the loss, causing very little change in the norm of the weight vector."
   ]
  },
  {
   "cell_type": "markdown",
   "id": "26161cd6",
   "metadata": {},
   "source": [
    "# The Dataset"
   ]
  },
  {
   "cell_type": "markdown",
   "id": "a89d3d5a",
   "metadata": {},
   "source": [
    "The dataset we’ll use for this python project- we’ll call it news.csv. This dataset has a shape of 7796×4. The first column identifies the news, the second and third are the title and text, and the fourth column has labels denoting whether the news is REAL or FAKE. The dataset takes up 29.2MB of space and you can download it here."
   ]
  },
  {
   "cell_type": "code",
   "execution_count": null,
   "id": "e11baa9d",
   "metadata": {},
   "outputs": [],
   "source": []
  }
 ],
 "metadata": {
  "kernelspec": {
   "display_name": "Python 3 (ipykernel)",
   "language": "python",
   "name": "python3"
  },
  "language_info": {
   "codemirror_mode": {
    "name": "ipython",
    "version": 3
   },
   "file_extension": ".py",
   "mimetype": "text/x-python",
   "name": "python",
   "nbconvert_exporter": "python",
   "pygments_lexer": "ipython3",
   "version": "3.9.7"
  }
 },
 "nbformat": 4,
 "nbformat_minor": 5
}
